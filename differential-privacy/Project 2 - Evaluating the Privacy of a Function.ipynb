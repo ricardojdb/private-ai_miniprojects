{
 "cells": [
  {
   "cell_type": "markdown",
   "metadata": {},
   "source": [
    "## Project 1: Generate Parallel Databases\n",
    "\n",
    "Key to the definition of differenital privacy is the ability to ask the question \"When querying a database, if I removed someone from the database, would the output of the query be any different?\". Thus, in order to check this, we must construct what we term \"parallel databases\" which are simply databases with one entry removed. \n",
    "\n",
    "In this first project, I want you to create a list of every parallel database to the one currently contained in the \"db\" variable. Then, I want you to create a function which both:\n",
    "\n",
    "- creates the initial database (db)\n",
    "- creates all parallel databases"
   ]
  },
  {
   "cell_type": "code",
   "execution_count": 1,
   "metadata": {},
   "outputs": [],
   "source": [
    "import torch\n",
    "# the number of entries in our database\n",
    "num_entries = 5000\n",
    "db = torch.rand(num_entries) > 0.5"
   ]
  },
  {
   "cell_type": "code",
   "execution_count": 2,
   "metadata": {},
   "outputs": [
    {
     "data": {
      "text/plain": [
       "tensor([0, 1, 0,  ..., 1, 1, 1], dtype=torch.uint8)"
      ]
     },
     "execution_count": 2,
     "metadata": {},
     "output_type": "execute_result"
    }
   ],
   "source": [
    "def get_parallel_db(db, remove_index):\n",
    "    \"\"\"Returns a parallel database by removing\n",
    "    one sample from a given index\n",
    "    \n",
    "    Args:\n",
    "        db (tensor): The original database.\n",
    "        remove_index (int): specifies which sample to remove.\n",
    "\n",
    "    Returns:\n",
    "        tensor: a pararllel database.\n",
    "    \"\"\"\n",
    "    # TODO: Remove one sample from the database using the remove_index\n",
    "    \n",
    "    parallel_db = torch.cat((db[0:remove_index], \n",
    "                             db[remove_index+1:]))\n",
    "    return parallel_db\n",
    "\n",
    "get_parallel_db(db, 1)"
   ]
  },
  {
   "cell_type": "code",
   "execution_count": 3,
   "metadata": {},
   "outputs": [
    {
     "data": {
      "text/plain": [
       "[tensor([0, 1, 0,  ..., 1, 1, 1], dtype=torch.uint8),\n",
       " tensor([0, 1, 0,  ..., 1, 1, 1], dtype=torch.uint8),\n",
       " tensor([0, 0, 0,  ..., 1, 1, 1], dtype=torch.uint8)]"
      ]
     },
     "execution_count": 3,
     "metadata": {},
     "output_type": "execute_result"
    }
   ],
   "source": [
    "def get_parallel_dbs(db):\n",
    "    \"\"\"Returns a list of all the possible parallel \n",
    "    databases of a given database\n",
    "    \n",
    "    Args:\n",
    "        db (tensor): The original database.\n",
    "\n",
    "    Returns:\n",
    "        list: a list of pararllel databases.\n",
    "    \"\"\"\n",
    "    parallel_dbs = list()\n",
    "    \n",
    "    # TODO: Create a list of parallel databases for every index\n",
    "    for i in range(len(db)):\n",
    "        pdb = get_parallel_db(db, i)\n",
    "        parallel_dbs.append(pdb)\n",
    "        \n",
    "    return parallel_dbs\n",
    "\n",
    "pdbs = get_parallel_dbs(db)\n",
    "pdbs[:3]"
   ]
  },
  {
   "cell_type": "code",
   "execution_count": 4,
   "metadata": {},
   "outputs": [
    {
     "data": {
      "text/plain": [
       "tensor([1, 0, 1, 0, 1, 0, 1, 0, 1, 1, 1, 1, 0, 0, 1, 1, 0, 0, 0, 1],\n",
       "       dtype=torch.uint8)"
      ]
     },
     "execution_count": 4,
     "metadata": {},
     "output_type": "execute_result"
    }
   ],
   "source": [
    "def create_db_and_parallels(num_entries):\n",
    "    \"\"\"Initializes a databes and creates a list of \n",
    "    all the possible parallel databases of itself\n",
    "    \n",
    "    Args:\n",
    "        num_entries (int): length of the original database.\n",
    "\n",
    "    Returns:\n",
    "        db (tensor): the original database.\n",
    "        pdbs (list): a list of pararllel databases.\n",
    "    \"\"\"\n",
    "    # TODO: Initialize a database and all its parallel databases\n",
    "    \n",
    "    db = torch.rand(num_entries) > 0.5\n",
    "    pdbs = get_parallel_dbs(db)\n",
    "    \n",
    "    return db, pdbs\n",
    "\n",
    "db, pdbs = create_db_and_parallels(20)\n",
    "db"
   ]
  },
  {
   "cell_type": "markdown",
   "metadata": {},
   "source": [
    "# Project 2 - Evaluating the Privacy of a Function\n",
    "\n",
    "In the last section, we measured the difference between each parallel db's query result and the query result for the entire database and then calculated the max value (which was 1). This value is called \"sensitivity\", and it corresponds to the function we chose for the query. Namely, the \"sum\" query will always have a sensitivity of exactly 1. However, we can also calculate sensitivity for other functions as well.\n",
    "\n",
    "Let's try to calculate sensitivity for the \"mean\" function."
   ]
  },
  {
   "cell_type": "code",
   "execution_count": null,
   "metadata": {},
   "outputs": [],
   "source": [
    "def query(db):\n",
    "    \"\"\"Queries the database by computing a mean\"\"\"\n",
    "    return db.float().mean()"
   ]
  },
  {
   "cell_type": "code",
   "execution_count": null,
   "metadata": {},
   "outputs": [],
   "source": [
    "def sensitivity(query, n_entries=1000):\n",
    "    \"\"\"Computes the sensitivity of a given query\n",
    "    for a particular database\n",
    "    \n",
    "    Args:\n",
    "        query (fn): a function that queries the database.\n",
    "        n_entries (int): size of the database.\n",
    "\n",
    "    Returns:\n",
    "        tensor: the resulting sensitivity.\n",
    "    \"\"\"\n",
    "    # TODO: Create a custon database and its parallel databases\n",
    "    db, pdbs = None\n",
    "    \n",
    "    # TODO: Query the full database\n",
    "    full_db_result = None\n",
    "    \n",
    "    # TODO: Loop through the parallel databases and compute the maximum sensitivity\n",
    "    sensitivity = 0\n",
    "    for pdb in pdbs:\n",
    "        pass\n",
    "            \n",
    "    return sensitivity"
   ]
  },
  {
   "cell_type": "code",
   "execution_count": null,
   "metadata": {},
   "outputs": [],
   "source": [
    "sensitivity(query)"
   ]
  },
  {
   "cell_type": "code",
   "execution_count": null,
   "metadata": {},
   "outputs": [],
   "source": []
  }
 ],
 "metadata": {
  "kernelspec": {
   "display_name": "Python 3",
   "language": "python",
   "name": "python3"
  },
  "language_info": {
   "codemirror_mode": {
    "name": "ipython",
    "version": 3
   },
   "file_extension": ".py",
   "mimetype": "text/x-python",
   "name": "python",
   "nbconvert_exporter": "python",
   "pygments_lexer": "ipython3",
   "version": "3.7.3"
  }
 },
 "nbformat": 4,
 "nbformat_minor": 2
}
